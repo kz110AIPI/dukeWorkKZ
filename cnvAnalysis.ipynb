{
 "cells": [
  {
   "cell_type": "markdown",
   "metadata": {},
   "source": [
    "# This is a step by step code for Breast cancer CNV analysis comparision\n"
   ]
  },
  {
   "cell_type": "markdown",
   "metadata": {},
   "source": [
    "## Step1 is to load CSV files as dataframe"
   ]
  },
  {
   "cell_type": "code",
   "execution_count": 2,
   "metadata": {},
   "outputs": [
    {
     "name": "stdout",
     "output_type": "stream",
     "text": [
      "invasive_df\n",
      "   Unnamed: 0  CHR    START      END  352  354  357  358  359  360  363  371  \\\n",
      "0           1    1   840001  2250000    1    1   -1   -1    0    0   -1    0   \n",
      "1           2    1  2250000  2520001    1    0   -1   -1    0    0   -1    0   \n",
      "2           3    1  2520001  6240000    1    0   -1   -1    0   -1   -1    0   \n",
      "3           4    1  6240000  7500001    1    0   -1   -1    0    0   -1    0   \n",
      "4           5    1  7500001  7770001    1    0   -1   -1    0    0   -1    1   \n",
      "\n",
      "   372  373  378  379  383  \n",
      "0    0    0    0   -1   -1  \n",
      "1    0    0    0   -1   -1  \n",
      "2    0    0    0   -1   -1  \n",
      "3    0    0    0   -1   -1  \n",
      "4    0    0    0   -1   -1  \n",
      "non_invasive_df\n",
      "   Unnamed: 0  CHR    START      END  352_ADH  354_ADH  357_ADH  \\\n",
      "0           1    1   840001  2280001        0       -1        0   \n",
      "1           2    1  2280001  2520001        0       -1        0   \n",
      "2           3    1  2520001  2550001        0       -1       -1   \n",
      "3           4    1  2550001  2700001       -1       -1       -1   \n",
      "4           5    1  2700001  3210000       -1       -1       -1   \n",
      "\n",
      "   357_Hyperplasia  358_ADH  359_ADH  ...  360_ADH  360_Hyperplasia  363_ADH  \\\n",
      "0                0        0        0  ...        0                0        0   \n",
      "1                0        0        0  ...        0                0       -2   \n",
      "2               -1       -1        0  ...       -1                0       -2   \n",
      "3               -1       -1        0  ...       -1                0       -2   \n",
      "4               -1       -1        0  ...       -1                0       -2   \n",
      "\n",
      "   371_ADH  372_ADH  373_ADH  378_ADH  379_ADH  383_ADH  383_DCIS  \n",
      "0       -1        0        0       -1        0        0         0  \n",
      "1       -1        0        0       -1        0        0         0  \n",
      "2       -1        0        0       -1        0        0         0  \n",
      "3       -1        0        0       -1        0        0         0  \n",
      "4       -1        0        0       -1       -1        0         0  \n",
      "\n",
      "[5 rows x 21 columns]\n"
     ]
    }
   ],
   "source": [
    "import pandas as pd\n",
    "\n",
    "# Load CSV files\n",
    "invasive_df = pd.read_csv('inv_tumor_call_table.csv')\n",
    "non_invasive_df = pd.read_csv('noniv_tumor_call_table.csv')\n",
    "\n",
    "print(\"invasive_df\")\n",
    "print(invasive_df.head(5))\n",
    "print(\"non_invasive_df\")\n",
    "print(non_invasive_df.head(5))"
   ]
  },
  {
   "cell_type": "markdown",
   "metadata": {},
   "source": [
    "## Step2 is to define a method to find overlapped chromosome regions\n"
   ]
  },
  {
   "cell_type": "code",
   "execution_count": 1,
   "metadata": {},
   "outputs": [],
   "source": [
    "def find_overlapping_cnv(invasive_sample, non_invasive_sample):\n",
    "    # Filter invasive and non-invasive samples based on chromosome changes\n",
    "    invasive_changes = invasive_sample[(invasive_sample['Value'] != 0)]\n",
    "    non_invasive_changes = non_invasive_sample[(non_invasive_sample['Value'] != 0)]\n",
    "    \n",
    "    print(invasive_changes.head(10))\n",
    "    print(non_invasive_changes.head(10))\n",
    "\n",
    "    # Initialize list to store overlapping regions\n",
    "    overlapping_regions = []\n",
    "    \n",
    "    # Loop over invasive changes and check for overlap with non-invasive changes\n",
    "    for _, inv_row in invasive_changes.iterrows():\n",
    "        inv_chr, inv_start, inv_end, inv_value = inv_row['CHR'], inv_row['start'], inv_row['end'], inv_row['Value']\n",
    "        \n",
    "        # Check if non-invasive data has overlaps with invasive changes on the same chromosome\n",
    "        overlaps = non_invasive_changes[(non_invasive_changes['CHR'] == inv_chr) & \n",
    "                                        (non_invasive_changes['start'] <= inv_end) &\n",
    "                                        (non_invasive_changes['end'] >= inv_start)]\n",
    "        \n",
    "        # Append overlapping regions with their CNV status\n",
    "        for _, non_inv_row in overlaps.iterrows():\n",
    "            overlap_start = max(inv_start, non_inv_row['start'])\n",
    "            overlap_end = min(inv_end, non_inv_row['end'])\n",
    "            region_data = {\n",
    "                'CHR': inv_chr,\n",
    "                'Overlap_Start': overlap_start,\n",
    "                'Overlap_End': overlap_end,\n",
    "                'Invasive_Value': inv_value,\n",
    "                'Non_Invasive_Value': non_inv_row['Value'],\n",
    "                'Region_Type': 'Gain' if inv_value > 0 else 'Loss' if inv_value < 0 else 'Normal'\n",
    "            }\n",
    "            overlapping_regions.append(region_data)\n",
    "    \n",
    "    return overlapping_regions"
   ]
  },
  {
   "cell_type": "markdown",
   "metadata": {},
   "source": [
    "## Step 3 is to define a function compare samples."
   ]
  },
  {
   "cell_type": "code",
   "execution_count": 7,
   "metadata": {},
   "outputs": [],
   "source": [
    "# Compare all invasive and corresponding non-invasive samples\n",
    "def compare_samples(invasive_df, non_invasive_df):\n",
    "    results = []\n",
    "    \n",
    "    for sample in invasive_df.columns[3:]:  # Exclude CHR, start, end columns\n",
    "        non_inv_sample = f\"{sample}_ADH\"\n",
    "        \n",
    "        if non_inv_sample in non_invasive_df.columns:\n",
    "            invasive_data = invasive_df[['CHR', 'start', 'end', sample]].rename(columns={sample: 'Value'})\n",
    "            non_invasive_data = non_invasive_df[['CHR', 'start', 'end', non_inv_sample]].rename(columns={non_inv_sample: 'Value'})\n",
    "            \n",
    "            overlapping_regions = find_overlapping_cnv(invasive_data, non_invasive_data)\n",
    "            results.extend(overlapping_regions)\n",
    "    \n",
    "    # Convert results to DataFrame and save\n",
    "    overlap_df = pd.DataFrame(results)\n",
    "    overlap_df.to_csv('cnv_overlaps.csv', index=False)\n",
    "    print(\"Comparison complete. Results saved to 'cnv_overlaps.csv'.\")"
   ]
  },
  {
   "cell_type": "markdown",
   "metadata": {},
   "source": [
    "# Run comparison"
   ]
  },
  {
   "cell_type": "code",
   "execution_count": 8,
   "metadata": {},
   "outputs": [
    {
     "ename": "KeyError",
     "evalue": "\"['start', 'end'] not in index\"",
     "output_type": "error",
     "traceback": [
      "\u001b[0;31m---------------------------------------------------------------------------\u001b[0m",
      "\u001b[0;31mKeyError\u001b[0m                                  Traceback (most recent call last)",
      "Cell \u001b[0;32mIn[8], line 2\u001b[0m\n\u001b[1;32m      1\u001b[0m \u001b[38;5;66;03m# Run comparison\u001b[39;00m\n\u001b[0;32m----> 2\u001b[0m \u001b[43mcompare_samples\u001b[49m\u001b[43m(\u001b[49m\u001b[43minvasive_df\u001b[49m\u001b[43m,\u001b[49m\u001b[43m \u001b[49m\u001b[43mnon_invasive_df\u001b[49m\u001b[43m)\u001b[49m\n",
      "Cell \u001b[0;32mIn[7], line 9\u001b[0m, in \u001b[0;36mcompare_samples\u001b[0;34m(invasive_df, non_invasive_df)\u001b[0m\n\u001b[1;32m      6\u001b[0m non_inv_sample \u001b[38;5;241m=\u001b[39m \u001b[38;5;124mf\u001b[39m\u001b[38;5;124m\"\u001b[39m\u001b[38;5;132;01m{\u001b[39;00msample\u001b[38;5;132;01m}\u001b[39;00m\u001b[38;5;124m_ADH\u001b[39m\u001b[38;5;124m\"\u001b[39m\n\u001b[1;32m      8\u001b[0m \u001b[38;5;28;01mif\u001b[39;00m non_inv_sample \u001b[38;5;129;01min\u001b[39;00m non_invasive_df\u001b[38;5;241m.\u001b[39mcolumns:\n\u001b[0;32m----> 9\u001b[0m     invasive_data \u001b[38;5;241m=\u001b[39m \u001b[43minvasive_df\u001b[49m\u001b[43m[\u001b[49m\u001b[43m[\u001b[49m\u001b[38;5;124;43m'\u001b[39;49m\u001b[38;5;124;43mCHR\u001b[39;49m\u001b[38;5;124;43m'\u001b[39;49m\u001b[43m,\u001b[49m\u001b[43m \u001b[49m\u001b[38;5;124;43m'\u001b[39;49m\u001b[38;5;124;43mstart\u001b[39;49m\u001b[38;5;124;43m'\u001b[39;49m\u001b[43m,\u001b[49m\u001b[43m \u001b[49m\u001b[38;5;124;43m'\u001b[39;49m\u001b[38;5;124;43mend\u001b[39;49m\u001b[38;5;124;43m'\u001b[39;49m\u001b[43m,\u001b[49m\u001b[43m \u001b[49m\u001b[43msample\u001b[49m\u001b[43m]\u001b[49m\u001b[43m]\u001b[49m\u001b[38;5;241m.\u001b[39mrename(columns\u001b[38;5;241m=\u001b[39m{sample: \u001b[38;5;124m'\u001b[39m\u001b[38;5;124mValue\u001b[39m\u001b[38;5;124m'\u001b[39m})\n\u001b[1;32m     10\u001b[0m     non_invasive_data \u001b[38;5;241m=\u001b[39m non_invasive_df[[\u001b[38;5;124m'\u001b[39m\u001b[38;5;124mCHR\u001b[39m\u001b[38;5;124m'\u001b[39m, \u001b[38;5;124m'\u001b[39m\u001b[38;5;124mstart\u001b[39m\u001b[38;5;124m'\u001b[39m, \u001b[38;5;124m'\u001b[39m\u001b[38;5;124mend\u001b[39m\u001b[38;5;124m'\u001b[39m, non_inv_sample]]\u001b[38;5;241m.\u001b[39mrename(columns\u001b[38;5;241m=\u001b[39m{non_inv_sample: \u001b[38;5;124m'\u001b[39m\u001b[38;5;124mValue\u001b[39m\u001b[38;5;124m'\u001b[39m})\n\u001b[1;32m     12\u001b[0m     overlapping_regions \u001b[38;5;241m=\u001b[39m find_overlapping_cnv(invasive_data, non_invasive_data)\n",
      "File \u001b[0;32m~/Documents/duke_work/cnv/1024/lib/python3.11/site-packages/pandas/core/frame.py:4108\u001b[0m, in \u001b[0;36mDataFrame.__getitem__\u001b[0;34m(self, key)\u001b[0m\n\u001b[1;32m   4106\u001b[0m     \u001b[38;5;28;01mif\u001b[39;00m is_iterator(key):\n\u001b[1;32m   4107\u001b[0m         key \u001b[38;5;241m=\u001b[39m \u001b[38;5;28mlist\u001b[39m(key)\n\u001b[0;32m-> 4108\u001b[0m     indexer \u001b[38;5;241m=\u001b[39m \u001b[38;5;28;43mself\u001b[39;49m\u001b[38;5;241;43m.\u001b[39;49m\u001b[43mcolumns\u001b[49m\u001b[38;5;241;43m.\u001b[39;49m\u001b[43m_get_indexer_strict\u001b[49m\u001b[43m(\u001b[49m\u001b[43mkey\u001b[49m\u001b[43m,\u001b[49m\u001b[43m \u001b[49m\u001b[38;5;124;43m\"\u001b[39;49m\u001b[38;5;124;43mcolumns\u001b[39;49m\u001b[38;5;124;43m\"\u001b[39;49m\u001b[43m)\u001b[49m[\u001b[38;5;241m1\u001b[39m]\n\u001b[1;32m   4110\u001b[0m \u001b[38;5;66;03m# take() does not accept boolean indexers\u001b[39;00m\n\u001b[1;32m   4111\u001b[0m \u001b[38;5;28;01mif\u001b[39;00m \u001b[38;5;28mgetattr\u001b[39m(indexer, \u001b[38;5;124m\"\u001b[39m\u001b[38;5;124mdtype\u001b[39m\u001b[38;5;124m\"\u001b[39m, \u001b[38;5;28;01mNone\u001b[39;00m) \u001b[38;5;241m==\u001b[39m \u001b[38;5;28mbool\u001b[39m:\n",
      "File \u001b[0;32m~/Documents/duke_work/cnv/1024/lib/python3.11/site-packages/pandas/core/indexes/base.py:6200\u001b[0m, in \u001b[0;36mIndex._get_indexer_strict\u001b[0;34m(self, key, axis_name)\u001b[0m\n\u001b[1;32m   6197\u001b[0m \u001b[38;5;28;01melse\u001b[39;00m:\n\u001b[1;32m   6198\u001b[0m     keyarr, indexer, new_indexer \u001b[38;5;241m=\u001b[39m \u001b[38;5;28mself\u001b[39m\u001b[38;5;241m.\u001b[39m_reindex_non_unique(keyarr)\n\u001b[0;32m-> 6200\u001b[0m \u001b[38;5;28;43mself\u001b[39;49m\u001b[38;5;241;43m.\u001b[39;49m\u001b[43m_raise_if_missing\u001b[49m\u001b[43m(\u001b[49m\u001b[43mkeyarr\u001b[49m\u001b[43m,\u001b[49m\u001b[43m \u001b[49m\u001b[43mindexer\u001b[49m\u001b[43m,\u001b[49m\u001b[43m \u001b[49m\u001b[43maxis_name\u001b[49m\u001b[43m)\u001b[49m\n\u001b[1;32m   6202\u001b[0m keyarr \u001b[38;5;241m=\u001b[39m \u001b[38;5;28mself\u001b[39m\u001b[38;5;241m.\u001b[39mtake(indexer)\n\u001b[1;32m   6203\u001b[0m \u001b[38;5;28;01mif\u001b[39;00m \u001b[38;5;28misinstance\u001b[39m(key, Index):\n\u001b[1;32m   6204\u001b[0m     \u001b[38;5;66;03m# GH 42790 - Preserve name from an Index\u001b[39;00m\n",
      "File \u001b[0;32m~/Documents/duke_work/cnv/1024/lib/python3.11/site-packages/pandas/core/indexes/base.py:6252\u001b[0m, in \u001b[0;36mIndex._raise_if_missing\u001b[0;34m(self, key, indexer, axis_name)\u001b[0m\n\u001b[1;32m   6249\u001b[0m     \u001b[38;5;28;01mraise\u001b[39;00m \u001b[38;5;167;01mKeyError\u001b[39;00m(\u001b[38;5;124mf\u001b[39m\u001b[38;5;124m\"\u001b[39m\u001b[38;5;124mNone of [\u001b[39m\u001b[38;5;132;01m{\u001b[39;00mkey\u001b[38;5;132;01m}\u001b[39;00m\u001b[38;5;124m] are in the [\u001b[39m\u001b[38;5;132;01m{\u001b[39;00maxis_name\u001b[38;5;132;01m}\u001b[39;00m\u001b[38;5;124m]\u001b[39m\u001b[38;5;124m\"\u001b[39m)\n\u001b[1;32m   6251\u001b[0m not_found \u001b[38;5;241m=\u001b[39m \u001b[38;5;28mlist\u001b[39m(ensure_index(key)[missing_mask\u001b[38;5;241m.\u001b[39mnonzero()[\u001b[38;5;241m0\u001b[39m]]\u001b[38;5;241m.\u001b[39munique())\n\u001b[0;32m-> 6252\u001b[0m \u001b[38;5;28;01mraise\u001b[39;00m \u001b[38;5;167;01mKeyError\u001b[39;00m(\u001b[38;5;124mf\u001b[39m\u001b[38;5;124m\"\u001b[39m\u001b[38;5;132;01m{\u001b[39;00mnot_found\u001b[38;5;132;01m}\u001b[39;00m\u001b[38;5;124m not in index\u001b[39m\u001b[38;5;124m\"\u001b[39m)\n",
      "\u001b[0;31mKeyError\u001b[0m: \"['start', 'end'] not in index\""
     ]
    }
   ],
   "source": [
    "# Run comparison\n",
    "compare_samples(invasive_df, non_invasive_df)"
   ]
  },
  {
   "cell_type": "code",
   "execution_count": null,
   "metadata": {},
   "outputs": [],
   "source": [
    "# Test find_overlapping function\n"
   ]
  },
  {
   "cell_type": "markdown",
   "metadata": {},
   "source": []
  },
  {
   "cell_type": "markdown",
   "metadata": {},
   "source": []
  }
 ],
 "metadata": {
  "kernelspec": {
   "display_name": "1024",
   "language": "python",
   "name": "python3"
  },
  "language_info": {
   "codemirror_mode": {
    "name": "ipython",
    "version": 3
   },
   "file_extension": ".py",
   "mimetype": "text/x-python",
   "name": "python",
   "nbconvert_exporter": "python",
   "pygments_lexer": "ipython3",
   "version": "3.11.5"
  }
 },
 "nbformat": 4,
 "nbformat_minor": 2
}
